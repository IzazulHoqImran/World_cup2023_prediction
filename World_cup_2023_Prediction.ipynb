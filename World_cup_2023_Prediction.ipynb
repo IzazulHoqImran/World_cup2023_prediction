{
  "nbformat": 4,
  "nbformat_minor": 0,
  "metadata": {
    "colab": {
      "private_outputs": true,
      "provenance": []
    },
    "kernelspec": {
      "name": "python3",
      "display_name": "Python 3"
    },
    "language_info": {
      "name": "python"
    }
  },
  "cells": [
    {
      "cell_type": "code",
      "execution_count": null,
      "metadata": {
        "id": "7u6vY1JkULyf"
      },
      "outputs": [],
      "source": [
        "import datetime\n",
        "import os\n",
        "import json\n",
        "import pickle\n",
        "from sklearn.model_selection import train_test_split\n",
        "from sklearn.ensemble import RandomForestClassifier\n",
        "from sklearn.impute import SimpleImputer\n",
        "from sklearn.linear_model import LogisticRegression\n",
        "from sklearn.metrics import accuracy_score\n",
        "from sklearn.model_selection import train_test_split\n",
        "from sklearn.impute import SimpleImputer\n",
        "import pandas as pd\n",
        "import numpy as np\n",
        "from sklearn.model_selection import train_test_split\n",
        "from sklearn.linear_model import LinearRegression\n",
        "import tensorflow as tf\n",
        "from sklearn.ensemble import RandomForestRegressor\n",
        "from sklearn.metrics import mean_squared_error, mean_absolute_error\n",
        "import matplotlib.pyplot as plt\n",
        "import seaborn as sns\n",
        "from sklearn.preprocessing import LabelEncoder\n",
        "from datetime import datetime\n",
        "import matplotlib.pyplot as plt\n",
        "import seaborn as sns\n",
        "import matplotlib.ticker as ticker\n",
        "import matplotlib.ticker as plticker\n",
        "from sklearn.model_selection import train_test_split\n",
        "from sklearn.ensemble import RandomForestClassifier\n",
        "from sklearn.datasets import make_classification"
      ]
    },
    {
      "cell_type": "markdown",
      "source": [
        "# World Cup 2023 Winnier Prediction"
      ],
      "metadata": {
        "id": "SmSR_kNhLNZm"
      }
    },
    {
      "cell_type": "code",
      "source": [
        "world_cup = pd.read_csv('/content/World Cup 2023 Dataset.csv')\n",
        "results = pd.read_csv('/content/results.csv')"
      ],
      "metadata": {
        "id": "HYjTKOYtA0Qp"
      },
      "execution_count": null,
      "outputs": []
    },
    {
      "cell_type": "code",
      "source": [
        "worldcup_teams = ['England', ' South Africa', 'Netherlands',\n",
        "            'Pakistan', 'New Zealand', 'Sri Lanka', 'Afghanistan',\n",
        "            'Australia', 'Bangladesh', 'India']\n",
        "df_teams_1 = results[results['Team_1'].isin(worldcup_teams)]\n",
        "df_teams_2 = results[results['Team_2'].isin(worldcup_teams)]\n",
        "df_teams = pd.concat((df_teams_1, df_teams_2))\n",
        "df_teams.drop_duplicates()\n",
        "df_teams.count()"
      ],
      "metadata": {
        "id": "qPfJLxXPB4ak"
      },
      "execution_count": null,
      "outputs": []
    },
    {
      "cell_type": "code",
      "source": [
        "df_teams.head()"
      ],
      "metadata": {
        "id": "IfBmNVRxCKLS"
      },
      "execution_count": null,
      "outputs": []
    },
    {
      "cell_type": "code",
      "source": [
        "\n",
        "df_teams_2023 = df_teams.drop(['Match Date','Margin', 'Ground'], axis=1)\n",
        "df_teams_2023.head()"
      ],
      "metadata": {
        "id": "5MRUYIzhCgpz"
      },
      "execution_count": null,
      "outputs": []
    },
    {
      "cell_type": "code",
      "source": [
        "df_teams_2023= df_teams_2023.reset_index(drop=True)\n",
        "df_teams_2023.loc[df_teams_2023.Winner == df_teams_2023.Team_1,'winning_team']=1\n",
        "df_teams_2023.loc[df_teams_2023.Winner == df_teams_2023.Team_2, 'winning_team']=2\n",
        "df_teams_2023 = df_teams_2023.drop(['winning_team'], axis=1)\n",
        "df_teams_2023.head()"
      ],
      "metadata": {
        "id": "rnpu7N3SDARj"
      },
      "execution_count": null,
      "outputs": []
    },
    {
      "cell_type": "code",
      "source": [
        "\n",
        "final = pd.get_dummies(df_teams_2023, prefix=['Team_1', 'Team_2'], columns=['Team_1', 'Team_2'])\n",
        "\n",
        "X = final.drop(['Winner'], axis=1)\n",
        "y = final[\"Winner\"]\n"
      ],
      "metadata": {
        "id": "2iJOMCi_DGkb"
      },
      "execution_count": null,
      "outputs": []
    },
    {
      "cell_type": "code",
      "source": [
        "\n",
        "imputer = SimpleImputer(strategy=\"mean\")\n",
        "X = imputer.fit_transform(X)\n",
        "\n",
        "\n",
        "X_train, X_test, y_train, y_test = train_test_split(X, y, test_size=0.25, random_state=42)\n",
        "\n",
        "\n",
        "logistic_model = LogisticRegression()\n",
        "\n",
        "\n",
        "logistic_model.fit(X_train, y_train)\n",
        "\n",
        "y_pred = logistic_model.predict(X_test)\n",
        "\n",
        "accuracy = accuracy_score(y_test, y_pred)\n",
        "print(f\"Accuracy: {accuracy * 100:.2f}%\")\n"
      ],
      "metadata": {
        "id": "MVOuxjPrVpf8"
      },
      "execution_count": null,
      "outputs": []
    },
    {
      "cell_type": "code",
      "source": [
        "\n",
        "\n",
        "imputer = SimpleImputer(strategy='mean')\n",
        "\n",
        "\n",
        "X_imputed = imputer.fit_transform(X)\n",
        "\n",
        "X_train, X_test, y_train, y_test = train_test_split(X_imputed, y, test_size=0.30, random_state=42)\n",
        "\n",
        "rf = RandomForestClassifier(n_estimators=100, max_depth=20, random_state=0)\n",
        "rf.fit(X_train, y_train)\n",
        "\n",
        "\n",
        "score = rf.score(X_train, y_train)\n",
        "score2 = rf.score(X_test, y_test)\n",
        "\n",
        "print(\"Training set accuracy: \", '%.3f' % (score))\n",
        "print(\"Test set accuracy: \", '%.3f' % (score2))\n"
      ],
      "metadata": {
        "id": "vg_tcqQ_Dvuy"
      },
      "execution_count": null,
      "outputs": []
    },
    {
      "cell_type": "code",
      "source": [
        "\n",
        "ranking = pd.read_csv('/content/icc_rankings.csv')\n",
        "fixtures = pd.read_csv('/content/fixtures.csv')\n",
        "pred_set = []"
      ],
      "metadata": {
        "id": "EdTPv0X2D0vW"
      },
      "execution_count": null,
      "outputs": []
    },
    {
      "cell_type": "code",
      "source": [
        "ranking.head()\n"
      ],
      "metadata": {
        "id": "EN8p8GEHD42J"
      },
      "execution_count": null,
      "outputs": []
    },
    {
      "cell_type": "code",
      "source": [
        "fixtures.head()"
      ],
      "metadata": {
        "id": "IHbewRzj3BZ7"
      },
      "execution_count": null,
      "outputs": []
    },
    {
      "cell_type": "code",
      "source": [
        "\n",
        "fixtures['Team_1'] = fixtures['Team_1'].str.title()\n",
        "fixtures['Team_2'] = fixtures['Team_2'].str.title()\n",
        "\n",
        "\n",
        "fixtures['first_position'] = fixtures['Team_1'].map(ranking.set_index('Country')['Position'])\n",
        "fixtures['second_position'] = fixtures['Team_2'].map(ranking.set_index('Country')['Position'])\n",
        "\n",
        "fixtures.tail()\n"
      ],
      "metadata": {
        "id": "9ovL4p8WD8Oj"
      },
      "execution_count": null,
      "outputs": []
    },
    {
      "cell_type": "code",
      "source": [],
      "metadata": {
        "id": "TU5nC_JO3AAq"
      },
      "execution_count": null,
      "outputs": []
    },
    {
      "cell_type": "code",
      "source": [
        "\n",
        "for index, row in fixtures.iterrows():\n",
        "    if row['first_position'] < row['second_position']:\n",
        "        pred_set.append({'Team_1': row['Team_1'], 'Team_2': row['Team_2'], 'winning_team': None})\n",
        "    else:\n",
        "        pred_set.append({'Team_1': row['Team_2'], 'Team_2': row['Team_1'], 'winning_team': None})\n",
        "\n",
        "pred_set = pd.DataFrame(pred_set)\n",
        "backup_pred_set = pred_set\n",
        "pred_set.head()"
      ],
      "metadata": {
        "id": "a6R5OTRvEKX0"
      },
      "execution_count": null,
      "outputs": []
    },
    {
      "cell_type": "code",
      "source": [
        "\n",
        "pred_set = pd.get_dummies(pred_set, prefix=['Team_1', 'Team_2'], columns=['Team_1', 'Team_2'])\n",
        "\n",
        "missing_cols = set(final.columns) - set(pred_set.columns)\n",
        "for c in missing_cols:\n",
        "    pred_set[c] = 0\n",
        "pred_set = pred_set[final.columns]\n",
        "\n",
        "\n",
        "pred_set = pred_set.drop(['Winner'], axis=1)\n",
        "pred_set.head()"
      ],
      "metadata": {
        "id": "dCcuiDoYD_Dy"
      },
      "execution_count": null,
      "outputs": []
    },
    {
      "cell_type": "code",
      "source": [
        "\n",
        "predictions = rf.predict(pred_set)\n",
        "match_winners = []\n",
        "\n",
        "for i in range(fixtures.shape[0]):\n",
        "    match_detail = f\"{backup_pred_set.iloc[i, 1]} VS {backup_pred_set.iloc[i, 0]}\"\n",
        "    winner = backup_pred_set.iloc[i, 1] if predictions[i] == 1 else backup_pred_set.iloc[i, 0]\n",
        "\n",
        "    match_winners.append({\n",
        "        'Match': match_detail,\n",
        "        'Winner': winner\n",
        "    })\n",
        "\n",
        "    print(match_detail)\n",
        "    print(f\"Winner: {winner}\")\n",
        "    print(\"\")\n",
        "\n"
      ],
      "metadata": {
        "id": "1ajNzXlAFUFv"
      },
      "execution_count": null,
      "outputs": []
    },
    {
      "cell_type": "code",
      "source": [
        "from collections import Counter\n",
        "winner_names = [match['Winner'] for match in match_winners]\n",
        "\n",
        "win_count = Counter(winner_names)\n",
        "\n",
        "import pandas as pd\n",
        "win_count_df = pd.DataFrame.from_dict(win_count, orient='index', columns=['Wins']).reset_index()\n",
        "win_count_df.columns = ['Team', 'Wins']\n",
        "\n",
        "win_count_df = win_count_df.sort_values(by='Wins', ascending=False)\n",
        "win_count_df['Position'] = range(1, len(win_count_df) + 1)\n",
        "\n",
        "win_count_df"
      ],
      "metadata": {
        "id": "jpGetwVwFqeV"
      },
      "execution_count": null,
      "outputs": []
    },
    {
      "cell_type": "code",
      "source": [
        "\n",
        "semifinal_1 = (win_count_df.loc[win_count_df['Position'] == 1, 'Team'].iloc[0],\n",
        "               win_count_df.loc[win_count_df['Position'] == 3, 'Team'].iloc[0])\n",
        "\n",
        "semifinal_2 = (win_count_df.loc[win_count_df['Position'] == 2, 'Team'].iloc[0],\n",
        "               win_count_df.loc[win_count_df['Position'] == 4, 'Team'].iloc[0])\n",
        "\n",
        "semi = [semifinal_1, semifinal_2]\n",
        "semi\n",
        "\n"
      ],
      "metadata": {
        "id": "hdD0XlSkF0he"
      },
      "execution_count": null,
      "outputs": []
    },
    {
      "cell_type": "code",
      "source": [
        "def clean_and_predict(matches, ranking, final, logreg):\n",
        "\n",
        "\n",
        "    positions = []\n",
        "    finalist = []\n",
        "\n",
        "\n",
        "    for match in matches:\n",
        "        positions.append(ranking.loc[ranking['Country'] == match[0],'Position'].iloc[0])\n",
        "        positions.append(ranking.loc[ranking['Country'] == match[1],'Position'].iloc[0])\n",
        "\n",
        "\n",
        "    pred_set = []\n",
        "\n",
        "\n",
        "    i = 0\n",
        "    j = 0\n",
        "\n",
        "\n",
        "    while i < len(positions):\n",
        "        dict1 = {}\n",
        "\n",
        "\n",
        "        if positions[i] < positions[i + 1]:\n",
        "            dict1.update({'Team_1': matches[j][0], 'Team_2': matches[j][1]})\n",
        "        else:\n",
        "            dict1.update({'Team_1': matches[j][1], 'Team_2': matches[j][0]})\n",
        "\n",
        "\n",
        "        pred_set.append(dict1)\n",
        "        i += 2\n",
        "        j += 1\n",
        "\n",
        "\n",
        "    pred_set = pd.DataFrame(pred_set)\n",
        "    backup_pred_set = pred_set\n",
        "\n",
        "\n",
        "    pred_set = pd.get_dummies(pred_set, prefix=['Team_1', 'Team_2'], columns=['Team_1', 'Team_2'])\n",
        "\n",
        "\n",
        "    missing_cols2 = set(final.columns) - set(pred_set.columns)\n",
        "    for c in missing_cols2:\n",
        "        pred_set[c] = 0\n",
        "    pred_set = pred_set[final.columns]\n",
        "\n",
        "    pred_set = pred_set.drop(['Winner'], axis=1)\n",
        "\n",
        "    # Predict!\n",
        "    predictions = logreg.predict(pred_set)\n",
        "    for i in range(len(pred_set)):\n",
        "        print(backup_pred_set.iloc[i, 1] + \" VS \" + backup_pred_set.iloc[i, 0])\n",
        "        if predictions[i] == 1:\n",
        "            print(\"Winner: \" + backup_pred_set.iloc[i, 1])\n",
        "        else:\n",
        "            print(\"Winner: \" + backup_pred_set.iloc[i, 0])\n",
        "        print(\"\")\n",
        "\n",
        "semi_winners = clean_and_predict(semi, ranking, final, rf)\n",
        "\n"
      ],
      "metadata": {
        "id": "w7l0Vv6pF7C7"
      },
      "execution_count": null,
      "outputs": []
    },
    {
      "cell_type": "code",
      "source": [
        "finals = [('Pakistan', 'Australia')]\n",
        "clean_and_predict(finals, ranking, final, rf)"
      ],
      "metadata": {
        "id": "roEhCYhFGC3Z"
      },
      "execution_count": null,
      "outputs": []
    }
  ]
}